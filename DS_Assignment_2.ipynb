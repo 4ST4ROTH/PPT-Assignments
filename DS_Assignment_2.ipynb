{
  "nbformat": 4,
  "nbformat_minor": 0,
  "metadata": {
    "colab": {
      "provenance": [],
      "authorship_tag": "ABX9TyOsCphbEcLth2Q5HiVsyzNz",
      "include_colab_link": true
    },
    "kernelspec": {
      "name": "python3",
      "display_name": "Python 3"
    },
    "language_info": {
      "name": "python"
    }
  },
  "cells": [
    {
      "cell_type": "markdown",
      "metadata": {
        "id": "view-in-github",
        "colab_type": "text"
      },
      "source": [
        "<a href=\"https://colab.research.google.com/github/4ST4ROTH/PPT-Assignments/blob/main/DS_Assignment_2.ipynb\" target=\"_parent\"><img src=\"https://colab.research.google.com/assets/colab-badge.svg\" alt=\"Open In Colab\"/></a>"
      ]
    },
    {
      "cell_type": "markdown",
      "source": [
        "1. Scenario: A company wants to analyze the sales performance of its products in different regions. They have collected the following data:\n",
        "   Region A: [10, 15, 12, 8, 14]\n",
        "   Region B: [18, 20, 16, 22, 25]\n",
        "   Calculate the mean sales for each region.\n"
      ],
      "metadata": {
        "id": "_1LGtf2xAFF8"
      }
    },
    {
      "cell_type": "code",
      "execution_count": 2,
      "metadata": {
        "colab": {
          "base_uri": "https://localhost:8080/"
        },
        "id": "WyT1PY7b_-60",
        "outputId": "e5942294-a22e-4ad0-c1cd-7923a81e1ac9"
      },
      "outputs": [
        {
          "output_type": "stream",
          "name": "stdout",
          "text": [
            "Mean sales for Region A: 11.8\n",
            "Mean sales for Region B: 20.2\n"
          ]
        }
      ],
      "source": [
        "def calculate_mean(sales):\n",
        "\n",
        "    total_sales = sum(sales)\n",
        "    mean = total_sales / len(sales)\n",
        "    return mean\n",
        "\n",
        "region_a_sales = [10, 15, 12, 8, 14]\n",
        "region_b_sales = [18, 20, 16, 22, 25]\n",
        "\n",
        "mean_region_a = calculate_mean(region_a_sales)\n",
        "mean_region_b = calculate_mean(region_b_sales)\n",
        "\n",
        "print(\"Mean sales for Region A:\", mean_region_a)\n",
        "print(\"Mean sales for Region B:\", mean_region_b)\n"
      ]
    },
    {
      "cell_type": "markdown",
      "source": [
        "2. Scenario: A survey is conducted to measure customer satisfaction on a scale of 1 to 5. The data collected is as follows:\n",
        "   [4, 5, 2, 3, 5, 4, 3, 2, 4, 5]\n",
        "   Calculate the mode of the survey responses.\n"
      ],
      "metadata": {
        "id": "sOzpKE3LAhSr"
      }
    },
    {
      "cell_type": "code",
      "source": [
        "from collections import Counter\n",
        "\n",
        "def calculate_mode(data):\n",
        "    counter = Counter(data)\n",
        "    mode = counter.most_common(1)[0][0]\n",
        "    return mode\n",
        "\n",
        "survey_responses = [4, 5, 2, 3, 5, 4, 3, 2, 4, 5]\n",
        "\n",
        "mode = calculate_mode(survey_responses)\n",
        "\n",
        "print(\"Mode of the survey responses:\", mode)\n"
      ],
      "metadata": {
        "colab": {
          "base_uri": "https://localhost:8080/"
        },
        "id": "Nd3Kg6ffAU3m",
        "outputId": "67f89afc-a676-47df-ea13-c90d6205a3ab"
      },
      "execution_count": 3,
      "outputs": [
        {
          "output_type": "stream",
          "name": "stdout",
          "text": [
            "Mode of the survey responses: 4\n"
          ]
        }
      ]
    },
    {
      "cell_type": "markdown",
      "source": [
        "3. Scenario: A company wants to compare the salaries of two departments. The salary data for Department A and Department B are as follows:\n",
        "   Department A: [5000, 6000, 5500, 7000]\n",
        "   Department B: [4500, 5500, 5800, 6000, 5200]\n",
        "   Calculate the median salary for each department.\n"
      ],
      "metadata": {
        "id": "PJRX-Cr3A6fF"
      }
    },
    {
      "cell_type": "code",
      "source": [
        "def calculate_median(salaries):\n",
        "    sorted_salaries = sorted(salaries)\n",
        "    length = len(sorted_salaries)\n",
        "\n",
        "    if length % 2 == 0:\n",
        "        mid_index_1 = length // 2 - 1\n",
        "        mid_index_2 = length // 2\n",
        "        median = (sorted_salaries[mid_index_1] + sorted_salaries[mid_index_2]) / 2\n",
        "    else:\n",
        "        mid_index = length // 2\n",
        "        median = sorted_salaries[mid_index]\n",
        "\n",
        "    return median\n",
        "\n",
        "department_a_salaries = [5000, 6000, 5500, 7000]\n",
        "department_b_salaries = [4500, 5500, 5800, 6000, 5200]\n",
        "\n",
        "median_department_a = calculate_median(department_a_salaries)\n",
        "median_department_b = calculate_median(department_b_salaries)\n",
        "\n",
        "print(\"Median salary for Department A:\", median_department_a)\n",
        "print(\"Median salary for Department B:\", median_department_b)\n"
      ],
      "metadata": {
        "colab": {
          "base_uri": "https://localhost:8080/"
        },
        "id": "rnwUISurAz94",
        "outputId": "9206f571-16bf-4230-e808-2f68356ba31d"
      },
      "execution_count": 4,
      "outputs": [
        {
          "output_type": "stream",
          "name": "stdout",
          "text": [
            "Median salary for Department A: 5750.0\n",
            "Median salary for Department B: 5500\n"
          ]
        }
      ]
    },
    {
      "cell_type": "markdown",
      "source": [
        "4. Scenario: A data analyst wants to determine the variability in the daily stock prices of a company. The data collected is as follows:\n",
        "   [25.5, 24.8, 26.1, 25.3, 24.9]\n",
        "   Calculate the range of the stock prices.\n"
      ],
      "metadata": {
        "id": "CXMR2TQjBNVy"
      }
    },
    {
      "cell_type": "code",
      "source": [
        "def calculate_range(prices):\n",
        "    min_price = min(prices)\n",
        "    max_price = max(prices)\n",
        "    price_range = max_price - min_price\n",
        "    return price_range\n",
        "\n",
        "stock_prices = [25.5, 24.8, 26.1, 25.3, 24.9]\n",
        "\n",
        "price_range = calculate_range(stock_prices)\n",
        "\n",
        "print(\"Range of stock prices:\", price_range)\n"
      ],
      "metadata": {
        "colab": {
          "base_uri": "https://localhost:8080/"
        },
        "id": "saGD_F9CBFUV",
        "outputId": "544e21c8-f976-4477-89e2-a5724386d1e2"
      },
      "execution_count": 5,
      "outputs": [
        {
          "output_type": "stream",
          "name": "stdout",
          "text": [
            "Range of stock prices: 1.3000000000000007\n"
          ]
        }
      ]
    },
    {
      "cell_type": "markdown",
      "source": [
        "5. Scenario: A study is conducted to compare the performance of two different teaching methods. The test scores of the students in each group are as follows:\n",
        "   Group A: [85, 90, 92, 88, 91]\n",
        "   Group B: [82, 88, 90, 86, 87]\n",
        "   Perform a t-test to determine if there is a significant difference in the mean scores between the two groups.\n"
      ],
      "metadata": {
        "id": "Yeb2UCJRBbTY"
      }
    },
    {
      "cell_type": "code",
      "source": [
        "import scipy.stats as stats\n",
        "\n",
        "def perform_t_test(group_a, group_b):\n",
        "    t_statistic, p_value = stats.ttest_ind(group_a, group_b)\n",
        "    return t_statistic, p_value\n",
        "\n",
        "group_a_scores = [85, 90, 92, 88, 91]\n",
        "group_b_scores = [82, 88, 90, 86, 87]\n",
        "\n",
        "t_stat, p_value = perform_t_test(group_a_scores, group_b_scores)\n",
        "\n",
        "print(\"T-statistic:\", t_stat)\n",
        "print(\"P-value:\", p_value)\n"
      ],
      "metadata": {
        "colab": {
          "base_uri": "https://localhost:8080/"
        },
        "id": "GOwuCmj7BSLB",
        "outputId": "728c24f7-7aba-4ee1-c5e3-5c8b6a765a75"
      },
      "execution_count": 6,
      "outputs": [
        {
          "output_type": "stream",
          "name": "stdout",
          "text": [
            "T-statistic: 1.4312528946642733\n",
            "P-value: 0.19023970239078333\n"
          ]
        }
      ]
    },
    {
      "cell_type": "markdown",
      "source": [
        "6. Scenario: A company wants to analyze the relationship between advertising expenditure and sales. The data collected is as follows:\n",
        "   Advertising Expenditure (in thousands): [10, 15, 12, 8, 14]\n",
        "   Sales (in thousands): [25, 30, 28, 20, 26]\n",
        "   Calculate the correlation coefficient between advertising expenditure and sales.\n"
      ],
      "metadata": {
        "id": "2BFJovpxBs-R"
      }
    },
    {
      "cell_type": "code",
      "source": [
        "import numpy as np\n",
        "\n",
        "def calculate_correlation(advertising, sales):\n",
        "    correlation_coefficient = np.corrcoef(advertising, sales)[0, 1]\n",
        "    return correlation_coefficient\n",
        "\n",
        "advertising_expenditure = [10, 15, 12, 8, 14]\n",
        "sales = [25, 30, 28, 20, 26]\n",
        "\n",
        "correlation = calculate_correlation(advertising_expenditure, sales)\n",
        "\n",
        "print(\"Correlation coefficient:\", correlation)\n",
        "\n"
      ],
      "metadata": {
        "colab": {
          "base_uri": "https://localhost:8080/"
        },
        "id": "ZUN8Xv85BfJw",
        "outputId": "94a9109c-25d8-49bf-daf7-8c82d4c2d0b2"
      },
      "execution_count": 7,
      "outputs": [
        {
          "output_type": "stream",
          "name": "stdout",
          "text": [
            "Correlation coefficient: 0.8757511375750132\n"
          ]
        }
      ]
    },
    {
      "cell_type": "markdown",
      "source": [
        "7. Scenario: A survey is conducted to measure the heights of a group of people. The data collected is as follows:\n",
        "   [160, 170, 165, 155, 175, 180, 170]\n",
        "   Calculate the standard deviation of the heights.\n"
      ],
      "metadata": {
        "id": "ghyf5I8WB_bz"
      }
    },
    {
      "cell_type": "code",
      "source": [
        "import numpy as np\n",
        "\n",
        "def calculate_standard_deviation(heights):\n",
        "    standard_deviation = np.std(heights)\n",
        "    return standard_deviation\n",
        "\n",
        "heights = [160, 170, 165, 155, 175, 180, 170]\n",
        "\n",
        "std_deviation = calculate_standard_deviation(heights)\n",
        "\n",
        "print(\"Standard deviation of heights:\", std_deviation)\n"
      ],
      "metadata": {
        "colab": {
          "base_uri": "https://localhost:8080/"
        },
        "id": "75gXFgV9Bxfc",
        "outputId": "67174c36-a40b-4b78-caf1-3007c0e662ce"
      },
      "execution_count": 8,
      "outputs": [
        {
          "output_type": "stream",
          "name": "stdout",
          "text": [
            "Standard deviation of heights: 7.953949089757174\n"
          ]
        }
      ]
    },
    {
      "cell_type": "markdown",
      "source": [
        "8. Scenario: A company wants to analyze the relationship between employee tenure and job satisfaction. The data collected is as follows:\n",
        "   Employee Tenure (in years): [2, 3, 5, 4, 6, 2, 4]\n",
        "   Job Satisfaction (on a scale of 1 to 10): [7, 8, 6, 9, 5, 7, 6]\n",
        "   Perform a linear regression analysis to predict job satisfaction based on employee tenure.\n"
      ],
      "metadata": {
        "id": "vbn1Cs3RCRyV"
      }
    },
    {
      "cell_type": "code",
      "source": [
        "from sklearn.linear_model import LinearRegression\n",
        "import numpy as np\n",
        "\n",
        "def perform_linear_regression(tenure, satisfaction):\n",
        "    tenure = np.array(tenure).reshape((-1, 1))  # Reshape to column vector\n",
        "    model = LinearRegression().fit(tenure, satisfaction)\n",
        "    slope = model.coef_[0]\n",
        "    intercept = model.intercept_\n",
        "    return slope, intercept\n",
        "\n",
        "employee_tenure = [2, 3, 5, 4, 6, 2, 4]\n",
        "job_satisfaction = [7, 8, 6, 9, 5, 7, 6]\n",
        "\n",
        "slope, intercept = perform_linear_regression(employee_tenure, job_satisfaction)\n",
        "\n",
        "print(\"Slope:\", slope)\n",
        "print(\"Intercept:\", intercept)\n"
      ],
      "metadata": {
        "colab": {
          "base_uri": "https://localhost:8080/"
        },
        "id": "EjpBw0ItCKqq",
        "outputId": "0feab87c-fff8-4f41-d266-658c10858f79"
      },
      "execution_count": 9,
      "outputs": [
        {
          "output_type": "stream",
          "name": "stdout",
          "text": [
            "Slope: -0.4680851063829786\n",
            "Intercept: 8.595744680851062\n"
          ]
        }
      ]
    },
    {
      "cell_type": "markdown",
      "source": [
        "9. Scenario: A study is conducted to compare the effectiveness of two different medications. The recovery times of the patients in each group are as follows:\n",
        "   Medication A: [10, 12, 14, 11, 13]\n",
        "   Medication B: [15, 17, 16, 14, 18]\n",
        "   Perform an analysis of variance (ANOVA) to determine if there is a significant difference in the mean recovery times between the two medications.\n",
        "\n"
      ],
      "metadata": {
        "id": "WV2E4XSAC8Oe"
      }
    },
    {
      "cell_type": "code",
      "source": [
        "import scipy.stats as stats\n",
        "\n",
        "def perform_anova(medication_a, medication_b):\n",
        "    f_statistic, p_value = stats.f_oneway(medication_a, medication_b)\n",
        "    return f_statistic, p_value\n",
        "\n",
        "medication_a_recovery_times = [10, 12, 14, 11, 13]\n",
        "medication_b_recovery_times = [15, 17, 16, 14, 18]\n",
        "\n",
        "f_stat, p_value = perform_anova(medication_a_recovery_times, medication_b_recovery_times)\n",
        "\n",
        "print(\"F-statistic:\", f_stat)\n",
        "print(\"P-value:\", p_value)\n"
      ],
      "metadata": {
        "colab": {
          "base_uri": "https://localhost:8080/"
        },
        "id": "v_pL6svaCkEg",
        "outputId": "b0703595-f9b4-4ea3-e308-fb2c9412808b"
      },
      "execution_count": 10,
      "outputs": [
        {
          "output_type": "stream",
          "name": "stdout",
          "text": [
            "F-statistic: 16.0\n",
            "P-value: 0.003949772803445326\n"
          ]
        }
      ]
    },
    {
      "cell_type": "markdown",
      "source": [
        "10. Scenario: A company wants to analyze customer feedback ratings on a scale of 1 to 10. The data collected is\n",
        "\n",
        " as follows:\n",
        "    [8, 9, 7, 6, 8, 10, 9, 8, 7, 8]\n",
        "    Calculate the 75th percentile of the feedback ratings.\n"
      ],
      "metadata": {
        "id": "ftdbekbDDNJX"
      }
    },
    {
      "cell_type": "code",
      "source": [
        "import numpy as np\n",
        "\n",
        "def calculate_percentile(feedback_ratings, percentile):\n",
        "    result = np.percentile(feedback_ratings, percentile)\n",
        "    return result\n",
        "\n",
        "feedback_ratings = [8, 9, 7, 6, 8, 10, 9, 8, 7, 8]\n",
        "percentile_75 = calculate_percentile(feedback_ratings, 75)\n",
        "\n",
        "print(\"75th percentile of feedback ratings:\", percentile_75)\n"
      ],
      "metadata": {
        "colab": {
          "base_uri": "https://localhost:8080/"
        },
        "id": "jLMqlzQlC_l8",
        "outputId": "4d504751-b3e1-45fc-8f6f-a00efa94da29"
      },
      "execution_count": 11,
      "outputs": [
        {
          "output_type": "stream",
          "name": "stdout",
          "text": [
            "75th percentile of feedback ratings: 8.75\n"
          ]
        }
      ]
    },
    {
      "cell_type": "markdown",
      "source": [
        "11. Scenario: A quality control department wants to test the weight consistency of a product. The weights of a sample of products are as follows:\n",
        "    [10.2, 9.8, 10.0, 10.5, 10.3, 10.1]\n",
        "    Perform a hypothesis test to determine if the mean weight differs significantly from 10 grams.\n"
      ],
      "metadata": {
        "id": "wXo-ZLCeDopd"
      }
    },
    {
      "cell_type": "code",
      "source": [
        "import scipy.stats as stats\n",
        "\n",
        "def perform_hypothesis_test(weights, null_mean):\n",
        "    t_statistic, p_value = stats.ttest_1samp(weights, null_mean)\n",
        "    return t_statistic, p_value\n",
        "\n",
        "sample_weights = [10.2, 9.8, 10.0, 10.5, 10.3, 10.1]\n",
        "null_mean_weight = 10.0\n",
        "\n",
        "t_stat, p_value = perform_hypothesis_test(sample_weights, null_mean_weight)\n",
        "\n",
        "print(\"T-statistic:\", t_stat)\n",
        "print(\"P-value:\", p_value)\n"
      ],
      "metadata": {
        "colab": {
          "base_uri": "https://localhost:8080/"
        },
        "id": "MWiI9nmiDTx9",
        "outputId": "31cbc054-d3d2-4ec9-80db-ac54b6815941"
      },
      "execution_count": 12,
      "outputs": [
        {
          "output_type": "stream",
          "name": "stdout",
          "text": [
            "T-statistic: 1.5126584522688367\n",
            "P-value: 0.19077595151110102\n"
          ]
        }
      ]
    },
    {
      "cell_type": "markdown",
      "source": [
        "12. Scenario: A company wants to analyze the click-through rates of two different website designs. The number of clicks for each design is as follows:\n",
        "    Design A: [100, 120, 110, 90, 95]\n",
        "    Design B: [80, 85, 90, 95, 100]\n",
        "    Perform a chi-square test to determine if there is a significant difference in the click-through rates between the two designs.\n"
      ],
      "metadata": {
        "id": "Prr7CXbVD3FY"
      }
    },
    {
      "cell_type": "code",
      "source": [
        "import scipy.stats as stats\n",
        "import numpy as np\n",
        "\n",
        "def perform_chi_square_test(design_a_clicks, design_b_clicks):\n",
        "    observed = np.array([design_a_clicks, design_b_clicks])\n",
        "    chi2_statistic, p_value, _, _ = stats.chi2_contingency(observed)\n",
        "    return chi2_statistic, p_value\n",
        "\n",
        "design_a_clicks = [100, 120, 110, 90, 95]\n",
        "design_b_clicks = [80, 85, 90, 95, 100]\n",
        "\n",
        "chi2_stat, p_value = perform_chi_square_test(design_a_clicks, design_b_clicks)\n",
        "\n",
        "print(\"Chi-square statistic:\", chi2_stat)\n",
        "print(\"P-value:\", p_value)\n"
      ],
      "metadata": {
        "colab": {
          "base_uri": "https://localhost:8080/"
        },
        "id": "0Kg0WkEGDv3K",
        "outputId": "788d7e97-427d-48b4-ed1e-65da4a0025af"
      },
      "execution_count": 13,
      "outputs": [
        {
          "output_type": "stream",
          "name": "stdout",
          "text": [
            "Chi-square statistic: 6.110658166925435\n",
            "P-value: 0.19103526314060293\n"
          ]
        }
      ]
    },
    {
      "cell_type": "markdown",
      "source": [
        "13. Scenario: A survey is conducted to measure customer satisfaction with a product on a scale of 1 to 10. The data collected is as follows:\n",
        "    [7, 9, 6, 8, 10, 7, 8, 9, 7, 8]\n",
        "    Calculate the 95% confidence interval for the population mean satisfaction score.\n",
        "\n"
      ],
      "metadata": {
        "id": "EFrPs2nUEDFf"
      }
    },
    {
      "cell_type": "code",
      "source": [
        "import scipy.stats as stats\n",
        "import numpy as np\n",
        "\n",
        "def calculate_confidence_interval(data, confidence=0.95):\n",
        "    sample_mean = np.mean(data)\n",
        "    sample_std = np.std(data, ddof=1)\n",
        "    n = len(data)\n",
        "    margin_of_error = stats.t.ppf((1 + confidence) / 2, df=n-1) * sample_std / np.sqrt(n)\n",
        "    confidence_interval = (sample_mean - margin_of_error, sample_mean + margin_of_error)\n",
        "    return confidence_interval\n",
        "\n",
        "satisfaction_scores = [7, 9, 6, 8, 10, 7, 8, 9, 7, 8]\n",
        "confidence_interval_95 = calculate_confidence_interval(satisfaction_scores)\n",
        "\n",
        "print(\"95% Confidence Interval:\", confidence_interval_95)\n"
      ],
      "metadata": {
        "colab": {
          "base_uri": "https://localhost:8080/"
        },
        "id": "tSDvpIvqD7zT",
        "outputId": "2dcbd34b-57dd-402a-8245-1da18f75cced"
      },
      "execution_count": 14,
      "outputs": [
        {
          "output_type": "stream",
          "name": "stdout",
          "text": [
            "95% Confidence Interval: (7.043561120599888, 8.756438879400113)\n"
          ]
        }
      ]
    },
    {
      "cell_type": "markdown",
      "source": [
        "14. Scenario: A company wants to analyze the effect of temperature on product performance. The data collected is as follows:\n",
        "    Temperature (in degrees Celsius): [20, 22, 23, 19, 21]\n",
        "    Performance (on a scale of 1 to 10): [8, 7, 9, 6, 8]\n",
        "    Perform a simple linear regression to predict performance based on temperature.\n"
      ],
      "metadata": {
        "id": "1rzDvemUEalj"
      }
    },
    {
      "cell_type": "code",
      "source": [
        "from sklearn.linear_model import LinearRegression\n",
        "import numpy as np\n",
        "\n",
        "def perform_linear_regression(temperature, performance):\n",
        "    temperature = np.array(temperature).reshape((-1, 1))  # Reshape to column vector\n",
        "    model = LinearRegression().fit(temperature, performance)\n",
        "    slope = model.coef_[0]\n",
        "    intercept = model.intercept_\n",
        "    return slope, intercept\n",
        "\n",
        "temperature = [20, 22, 23, 19, 21]\n",
        "performance = [8, 7, 9, 6, 8]\n",
        "\n",
        "slope, intercept = perform_linear_regression(temperature, performance)\n",
        "\n",
        "print(\"Slope:\", slope)\n",
        "print(\"Intercept:\", intercept)\n"
      ],
      "metadata": {
        "colab": {
          "base_uri": "https://localhost:8080/"
        },
        "id": "mpHvgwWYEIH-",
        "outputId": "59318b12-9007-4f85-9a6a-a35481150f32"
      },
      "execution_count": 15,
      "outputs": [
        {
          "output_type": "stream",
          "name": "stdout",
          "text": [
            "Slope: 0.4999999999999999\n",
            "Intercept: -2.8999999999999986\n"
          ]
        }
      ]
    },
    {
      "cell_type": "code",
      "source": [],
      "metadata": {
        "id": "LfnpbvNxE2n7"
      },
      "execution_count": null,
      "outputs": []
    },
    {
      "cell_type": "markdown",
      "source": [
        "15. Scenario: A study is conducted to compare the preferences of two groups of participants. The preferences are measured on a Likert scale from 1 to 5. The data collected is as follows:\n",
        "    Group A: [4, 3, 5, 2, 4]\n",
        "    Group B: [3, 2, 4, 3, 3]\n",
        "    Perform a Mann-Whitney U test to determine if there is a significant difference in the median preferences between the two groups.\n"
      ],
      "metadata": {
        "id": "Ku_LqB-tErBm"
      }
    },
    {
      "cell_type": "code",
      "source": [
        "import scipy.stats as stats\n",
        "\n",
        "def perform_mann_whitneyu_test(group_a_preferences, group_b_preferences):\n",
        "    statistic, p_value = stats.mannwhitneyu(group_a_preferences, group_b_preferences)\n",
        "    return statistic, p_value\n",
        "\n",
        "group_a_preferences = [4, 3, 5, 2, 4]\n",
        "group_b_preferences = [3, 2, 4, 3, 3]\n",
        "\n",
        "statistic, p_value = perform_mann_whitneyu_test(group_a_preferences, group_b_preferences)\n",
        "\n",
        "print(\"Mann-Whitney U statistic:\", statistic)\n",
        "print(\"P-value:\", p_value)\n"
      ],
      "metadata": {
        "colab": {
          "base_uri": "https://localhost:8080/"
        },
        "id": "lOu7cCFWEiQt",
        "outputId": "c69134ce-4c02-4be3-ea86-29e1569bc7bd"
      },
      "execution_count": 16,
      "outputs": [
        {
          "output_type": "stream",
          "name": "stdout",
          "text": [
            "Mann-Whitney U statistic: 17.0\n",
            "P-value: 0.380836480306712\n"
          ]
        }
      ]
    },
    {
      "cell_type": "markdown",
      "source": [
        "16. Scenario: A company wants to analyze the distribution of customer ages. The data collected is as follows:\n",
        "    [25, 30, 35, 40, 45, 50, 55, 60, 65, 70]\n",
        "    Calculate the interquartile range (IQR) of the ages.\n"
      ],
      "metadata": {
        "id": "yR-t5WPMFMs8"
      }
    },
    {
      "cell_type": "code",
      "source": [
        "import numpy as np\n",
        "\n",
        "def calculate_iqr(data):\n",
        "    q1 = np.percentile(data, 25)\n",
        "    q3 = np.percentile(data, 75)\n",
        "    iqr = q3 - q1\n",
        "    return iqr\n",
        "\n",
        "ages = [25, 30, 35, 40, 45, 50, 55, 60, 65, 70]\n",
        "\n",
        "iqr = calculate_iqr(ages)\n",
        "\n",
        "print(\"Interquartile Range (IQR):\", iqr)\n"
      ],
      "metadata": {
        "colab": {
          "base_uri": "https://localhost:8080/"
        },
        "id": "vz4XdhCNFAtE",
        "outputId": "7ce01f33-e6fa-43d6-fff0-c0e165f417df"
      },
      "execution_count": 17,
      "outputs": [
        {
          "output_type": "stream",
          "name": "stdout",
          "text": [
            "Interquartile Range (IQR): 22.5\n"
          ]
        }
      ]
    },
    {
      "cell_type": "markdown",
      "source": [
        "17. Scenario: A study is conducted to compare the performance of three different machine learning algorithms. The accuracy scores for each algorithm are as follows:\n",
        "    Algorithm A: [0.85, 0.80, 0.82, 0.87, 0.83]\n",
        "    Algorithm B: [0.78, 0.82, 0.84, 0.80, 0.79]\n",
        "    Algorithm C: [0.90, 0.88, 0.89, 0.86, 0.87]\n",
        "    Perform a Kruskal-Wallis test to determine if there is a significant difference in the median accuracy scores between the algorithms.\n"
      ],
      "metadata": {
        "id": "IbrXm5-ZFXo7"
      }
    },
    {
      "cell_type": "code",
      "source": [
        "import scipy.stats as stats\n",
        "\n",
        "def perform_kruskal_wallis_test(algorithm_a_scores, algorithm_b_scores, algorithm_c_scores):\n",
        "    h_statistic, p_value = stats.kruskal(algorithm_a_scores, algorithm_b_scores, algorithm_c_scores)\n",
        "    return h_statistic, p_value\n",
        "\n",
        "algorithm_a_scores = [0.85, 0.80, 0.82, 0.87, 0.83]\n",
        "algorithm_b_scores = [0.78, 0.82, 0.84, 0.80, 0.79]\n",
        "algorithm_c_scores = [0.90, 0.88, 0.89, 0.86, 0.87]\n",
        "\n",
        "h_stat, p_value = perform_kruskal_wallis_test(algorithm_a_scores, algorithm_b_scores, algorithm_c_scores)\n",
        "\n",
        "print(\"Kruskal-Wallis H statistic:\", h_stat)\n",
        "print(\"P-value:\", p_value)\n"
      ],
      "metadata": {
        "colab": {
          "base_uri": "https://localhost:8080/"
        },
        "id": "ZhMy8EZ7FQwq",
        "outputId": "a499ac72-181c-4c67-af06-4a99e598fb67"
      },
      "execution_count": 18,
      "outputs": [
        {
          "output_type": "stream",
          "name": "stdout",
          "text": [
            "Kruskal-Wallis H statistic: 9.696947935368053\n",
            "P-value: 0.007840333026249539\n"
          ]
        }
      ]
    },
    {
      "cell_type": "markdown",
      "source": [
        "18. Scenario: A company wants to analyze the effect of price on sales. The data collected is as follows:\n",
        "    Price (in dollars): [10, 15, 12, 8, 14]\n",
        "    Sales: [100, 80, 90, 110, 95]\n",
        "    Perform a simple linear regression to predict\n"
      ],
      "metadata": {
        "id": "IcHBVd4XF1pJ"
      }
    },
    {
      "cell_type": "code",
      "source": [
        "from sklearn.linear_model import LinearRegression\n",
        "import numpy as np\n",
        "\n",
        "def perform_linear_regression(price, sales):\n",
        "    price = np.array(price).reshape((-1, 1))  # Reshape to column vector\n",
        "    model = LinearRegression().fit(price, sales)\n",
        "    slope = model.coef_[0]\n",
        "    intercept = model.intercept_\n",
        "    return slope, intercept\n",
        "\n",
        "price = [10, 15, 12, 8, 14]\n",
        "sales = [100, 80, 90, 110, 95]\n",
        "\n",
        "slope, intercept = perform_linear_regression(price, sales)\n",
        "\n",
        "print(\"Slope:\", slope)\n",
        "print(\"Intercept:\", intercept)\n"
      ],
      "metadata": {
        "colab": {
          "base_uri": "https://localhost:8080/"
        },
        "id": "YT9C01b7FdnG",
        "outputId": "45907c53-73bb-429b-9df0-38b4fd7d3e00"
      },
      "execution_count": 20,
      "outputs": [
        {
          "output_type": "stream",
          "name": "stdout",
          "text": [
            "Slope: -3.5060975609756095\n",
            "Intercept: 136.3719512195122\n"
          ]
        }
      ]
    },
    {
      "cell_type": "markdown",
      "source": [
        "19. Scenario: A survey is conducted to measure the satisfaction levels of customers with a new product. The data collected is as follows:\n",
        "    [7, 8, 9, 6, 8, 7, 9, 7, 8, 7]\n",
        "    Calculate the standard error of the mean satisfaction score.\n"
      ],
      "metadata": {
        "id": "tOSEthflHCkH"
      }
    },
    {
      "cell_type": "code",
      "source": [
        "import numpy as np\n",
        "\n",
        "def calculate_standard_error(data):\n",
        "    standard_error = np.std(data, ddof=1) / np.sqrt(len(data))\n",
        "    return standard_error\n",
        "\n",
        "satisfaction_scores = [7, 8, 9, 6, 8, 7, 9, 7, 8, 7]\n",
        "\n",
        "standard_error = calculate_standard_error(satisfaction_scores)\n",
        "\n",
        "print(\"Standard Error of the Mean:\", standard_error)\n"
      ],
      "metadata": {
        "colab": {
          "base_uri": "https://localhost:8080/"
        },
        "id": "HgHqm5w-F8l5",
        "outputId": "1f50c786-92fe-4025-f3a9-5e8877ec7b91"
      },
      "execution_count": 21,
      "outputs": [
        {
          "output_type": "stream",
          "name": "stdout",
          "text": [
            "Standard Error of the Mean: 0.30550504633038933\n"
          ]
        }
      ]
    },
    {
      "cell_type": "markdown",
      "source": [
        "20. Scenario: A company wants to analyze the relationship between advertising expenditure and sales. The data collected is as follows:\n",
        "    Advertising Expenditure (in thousands): [10, 15, 12, 8, 14]\n",
        "    Sales (in thousands): [25, 30, 28, 20, 26]\n",
        "    Perform a multiple regression analysis to predict sales based on advertising expenditure.\n"
      ],
      "metadata": {
        "id": "_Q5LIEGKHSTT"
      }
    },
    {
      "cell_type": "code",
      "source": [
        "import statsmodels.api as sm\n",
        "import pandas as pd\n",
        "\n",
        "def perform_multiple_regression(advertising_expenditure, sales):\n",
        "    data = pd.DataFrame({'Advertising Expenditure': advertising_expenditure, 'Sales': sales})\n",
        "    data = sm.add_constant(data)\n",
        "    model = sm.OLS(data['Sales'], data[['const', 'Advertising Expenditure']])\n",
        "    results = model.fit()\n",
        "    return results\n",
        "\n",
        "advertising_expenditure = [10, 15, 12, 8, 14]\n",
        "sales = [25, 30, 28, 20, 26]\n",
        "\n",
        "results = perform_multiple_regression(advertising_expenditure, sales)\n",
        "\n",
        "print(results.summary())\n"
      ],
      "metadata": {
        "colab": {
          "base_uri": "https://localhost:8080/"
        },
        "id": "V1MlamR1HKMm",
        "outputId": "b58115f2-6d51-45ca-80c1-181770839f23"
      },
      "execution_count": 22,
      "outputs": [
        {
          "output_type": "stream",
          "name": "stdout",
          "text": [
            "                            OLS Regression Results                            \n",
            "==============================================================================\n",
            "Dep. Variable:                  Sales   R-squared:                       0.767\n",
            "Model:                            OLS   Adj. R-squared:                  0.689\n",
            "Method:                 Least Squares   F-statistic:                     9.872\n",
            "Date:                Wed, 12 Jul 2023   Prob (F-statistic):             0.0516\n",
            "Time:                        12:40:00   Log-Likelihood:                -9.5288\n",
            "No. Observations:                   5   AIC:                             23.06\n",
            "Df Residuals:                       3   BIC:                             22.28\n",
            "Df Model:                           1                                         \n",
            "Covariance Type:            nonrobust                                         \n",
            "===========================================================================================\n",
            "                              coef    std err          t      P>|t|      [0.025      0.975]\n",
            "-------------------------------------------------------------------------------------------\n",
            "const                      12.2012      4.429      2.755      0.070      -1.893      26.296\n",
            "Advertising Expenditure     1.1524      0.367      3.142      0.052      -0.015       2.320\n",
            "==============================================================================\n",
            "Omnibus:                          nan   Durbin-Watson:                   1.136\n",
            "Prob(Omnibus):                    nan   Jarque-Bera (JB):                0.546\n",
            "Skew:                          -0.267   Prob(JB):                        0.761\n",
            "Kurtosis:                       1.471   Cond. No.                         57.3\n",
            "==============================================================================\n",
            "\n",
            "Notes:\n",
            "[1] Standard Errors assume that the covariance matrix of the errors is correctly specified.\n"
          ]
        },
        {
          "output_type": "stream",
          "name": "stderr",
          "text": [
            "/usr/local/lib/python3.10/dist-packages/statsmodels/stats/stattools.py:74: ValueWarning: omni_normtest is not valid with less than 8 observations; 5 samples were given.\n",
            "  warn(\"omni_normtest is not valid with less than 8 observations; %i \"\n"
          ]
        }
      ]
    },
    {
      "cell_type": "code",
      "source": [],
      "metadata": {
        "id": "AgvAtxu0HYe8"
      },
      "execution_count": null,
      "outputs": []
    }
  ]
}