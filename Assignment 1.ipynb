{
 "cells": [
  {
   "cell_type": "markdown",
   "id": "1d3313eb",
   "metadata": {},
   "source": [
    "<aside>\n",
    "💡 **Q1.** Given an array of integers nums and an integer target, return indices of the two numbers such that they add up to target.\n",
    "\n",
    "You may assume that each input would have exactly one solution, and you may not use the same element twice.\n",
    "\n",
    "You can return the answer in any order.\n",
    "\n",
    "</aside>"
   ]
  },
  {
   "cell_type": "code",
   "execution_count": 1,
   "id": "5d55d0ca",
   "metadata": {},
   "outputs": [],
   "source": [
    "def twoSum(nums, target):\n",
    "    num_indices = {}\n",
    "    for i, num in enumerate(nums):\n",
    "        complement = target - num\n",
    "        if complement in num_indices:\n",
    "            return [num_indices[complement], i]\n",
    "        num_indices[num] = i\n",
    "    return []  # If no solution is found\n"
   ]
  },
  {
   "cell_type": "code",
   "execution_count": 2,
   "id": "6cb55028",
   "metadata": {},
   "outputs": [
    {
     "name": "stdout",
     "output_type": "stream",
     "text": [
      "[1, 2]\n"
     ]
    }
   ],
   "source": [
    "nums = [2, 7, 11, 15]\n",
    "target = 18\n",
    "result = twoSum(nums, target)\n",
    "print(result)"
   ]
  },
  {
   "cell_type": "markdown",
   "id": "42198020",
   "metadata": {},
   "source": [
    "<aside>\n",
    "💡 Given an integer array nums and an integer val, remove all occurrences of val in nums in-place. The order of the elements may be changed. Then return the number of elements in nums which are not equal to val.\n",
    "\n",
    "Consider the number of elements in nums which are not equal to val be k, to get accepted, you need to do the following things:\n",
    "\n",
    "- Change the array nums such that the first k elements of nums contain the elements which are not equal to val. The remaining elements of nums are not important as well as the size of nums.\n",
    "- Return k.\n",
    "</aside>"
   ]
  },
  {
   "cell_type": "code",
   "execution_count": 3,
   "id": "7deadbbd",
   "metadata": {},
   "outputs": [],
   "source": [
    "def removeElement(nums, val):\n",
    "    i = 0\n",
    "    for j in range(len(nums)):\n",
    "        if nums[j] != val:\n",
    "            nums[i] = nums[j]\n",
    "            i += 1\n",
    "    return i\n"
   ]
  },
  {
   "cell_type": "code",
   "execution_count": 4,
   "id": "b27ad861",
   "metadata": {},
   "outputs": [
    {
     "name": "stdout",
     "output_type": "stream",
     "text": [
      "2\n",
      "[2, 2]\n"
     ]
    }
   ],
   "source": [
    "nums = [3, 2, 2, 3]\n",
    "val = 3\n",
    "\n",
    "result = removeElement(nums, val)\n",
    "print(result)\n",
    "print(nums[:result])\n"
   ]
  },
  {
   "cell_type": "markdown",
   "id": "56ef4521",
   "metadata": {},
   "source": [
    "<aside>\n",
    "💡 **Q3.** Given a sorted array of distinct integers and a target value, return the index if the target is found. If not, return the index where it would be if it were inserted in order.\n",
    "\n",
    "You must write an algorithm with O(log n) runtime complexity.\n",
    "\n",
    "</aside>"
   ]
  },
  {
   "cell_type": "code",
   "execution_count": 5,
   "id": "e0fa0507",
   "metadata": {},
   "outputs": [],
   "source": [
    "def return_index(num : list , target : int) -> int:\n",
    "    l = 0\n",
    "    r = len(num) - 1\n",
    "    \n",
    "    while l <= r:\n",
    "        mid = l + (r - l) // 2\n",
    "        if num[mid] == target:\n",
    "            return mid\n",
    "        elif num[mid] < target:\n",
    "            l = mid + 1\n",
    "        else:\n",
    "            r = mid - 1\n",
    "    return l"
   ]
  },
  {
   "cell_type": "code",
   "execution_count": 6,
   "id": "33a0c342",
   "metadata": {},
   "outputs": [
    {
     "data": {
      "text/plain": [
       "3"
      ]
     },
     "execution_count": 6,
     "metadata": {},
     "output_type": "execute_result"
    }
   ],
   "source": [
    "num = [1,2,4,6]\n",
    "target = 5\n",
    "return_index(num,target)"
   ]
  },
  {
   "cell_type": "code",
   "execution_count": 7,
   "id": "b5733ebe",
   "metadata": {},
   "outputs": [
    {
     "data": {
      "text/plain": [
       "2"
      ]
     },
     "execution_count": 7,
     "metadata": {},
     "output_type": "execute_result"
    }
   ],
   "source": [
    "num1 = [1, 3, 5, 6]\n",
    "target1 = 5\n",
    "return_index(num1,target1)"
   ]
  },
  {
   "cell_type": "markdown",
   "id": "35232d67",
   "metadata": {},
   "source": [
    "<aside>\n",
    "💡 **Q4.** You are given a large integer represented as an integer array digits, where each digits[i] is the ith digit of the integer. The digits are ordered from most significant to least significant in left-to-right order. The large integer does not contain any leading 0's.\n",
    "\n",
    "Increment the large integer by one and return the resulting array of digits.\n",
    "\n",
    "</aside>"
   ]
  },
  {
   "cell_type": "code",
   "execution_count": 8,
   "id": "1bcc7c37",
   "metadata": {},
   "outputs": [],
   "source": [
    "def increase_byONE(num : list ) -> list:\n",
    "    num[-1] = num[-1] + 1\n",
    "    return num"
   ]
  },
  {
   "cell_type": "code",
   "execution_count": 9,
   "id": "eca341b8",
   "metadata": {},
   "outputs": [
    {
     "data": {
      "text/plain": [
       "[1, 2, 4]"
      ]
     },
     "execution_count": 9,
     "metadata": {},
     "output_type": "execute_result"
    }
   ],
   "source": [
    "num = [1,2,3]\n",
    "increase_byONE(num)"
   ]
  },
  {
   "cell_type": "markdown",
   "id": "f60759e2",
   "metadata": {},
   "source": [
    "<aside>\n",
    "💡 You are given two integer arrays nums1 and nums2, sorted in non-decreasing order, and two integers m and n, representing the number of elements in nums1 and nums2 respectively.\n",
    "\n",
    "Merge nums1 and nums2 into a single array sorted in non-decreasing order.\n",
    "\n",
    "The final sorted array should not be returned by the function, but instead be stored inside the array nums1. To accommodate this, nums1 has a length of m + n, where the first m elements denote the elements that should be merged, and the last n elements are set to 0 and should be ignored. nums2 has a length of n.\n",
    "\n",
    "</aside>"
   ]
  },
  {
   "cell_type": "code",
   "execution_count": 10,
   "id": "9cbbc464",
   "metadata": {},
   "outputs": [],
   "source": [
    "def merge_arrays(num1 : list, m : int , num2 : list , n : int) -> list:\n",
    "    p1 = m - 1\n",
    "    p2 = n - 1\n",
    "    p = m + n -1\n",
    "    \n",
    "    while p1 >= 0 and p2 >=0:\n",
    "        if num1[p1] > num2[p2]:\n",
    "            num1[p] = num2[p1]\n",
    "            p1 -= 1\n",
    "        else:\n",
    "            num1[p] = num2[p2]\n",
    "            p2 -= 1\n",
    "        p -= 1\n",
    "    \n",
    "    if p2 >= 0:\n",
    "        num1[:p2+1] = num2[:p2+1]\n",
    "        \n",
    "    return num1\n",
    "    \n",
    "    \n",
    "        "
   ]
  },
  {
   "cell_type": "code",
   "execution_count": 11,
   "id": "d9d47ab6",
   "metadata": {},
   "outputs": [
    {
     "name": "stdout",
     "output_type": "stream",
     "text": [
      "[1, 2, 2, 6, 5, 6]\n"
     ]
    }
   ],
   "source": [
    "num1 = [1, 2, 3, 0, 0, 0]\n",
    "m = 3\n",
    "num2 = [2, 5, 6]\n",
    "n = 3\n",
    "\n",
    "result = merge_arrays(num1, m, num2, n)\n",
    "print(result) \n"
   ]
  },
  {
   "cell_type": "markdown",
   "id": "3a3b0b70",
   "metadata": {},
   "source": [
    "Given an integer array nums, return true if any value appears at least twice in the array, and return false if every element is distinct."
   ]
  },
  {
   "cell_type": "code",
   "execution_count": 12,
   "id": "655f7b92",
   "metadata": {},
   "outputs": [],
   "source": [
    "def containsDuplicate(nums):\n",
    "    seen = set()\n",
    "    for num in nums:\n",
    "        if num in seen:\n",
    "            return True\n",
    "        seen.add(num)\n",
    "    return False\n"
   ]
  },
  {
   "cell_type": "code",
   "execution_count": 13,
   "id": "bd32b1da",
   "metadata": {},
   "outputs": [
    {
     "name": "stdout",
     "output_type": "stream",
     "text": [
      "True\n"
     ]
    }
   ],
   "source": [
    "nums1 = [1, 2, 3, 1]\n",
    "print(containsDuplicate(nums1))  \n"
   ]
  },
  {
   "cell_type": "code",
   "execution_count": 14,
   "id": "a679be20",
   "metadata": {},
   "outputs": [
    {
     "name": "stdout",
     "output_type": "stream",
     "text": [
      "False\n"
     ]
    }
   ],
   "source": [
    "nums2 = [1, 2, 3, 4]\n",
    "print(containsDuplicate(nums2))  "
   ]
  },
  {
   "cell_type": "code",
   "execution_count": 15,
   "id": "18924762",
   "metadata": {},
   "outputs": [
    {
     "name": "stdout",
     "output_type": "stream",
     "text": [
      "True\n"
     ]
    }
   ],
   "source": [
    "nums3 = [1, 1, 1, 1]\n",
    "print(containsDuplicate(nums3)) "
   ]
  },
  {
   "cell_type": "markdown",
   "id": "36427e56",
   "metadata": {},
   "source": [
    "<aside>\n",
    "💡 Given an integer array nums, move all 0's to the end of it while maintaining the relative order of the nonzero elements.\n",
    "\n",
    "Note that you must do this in-place without making a copy of the array.\n",
    "\n",
    "</aside>"
   ]
  },
  {
   "cell_type": "code",
   "execution_count": 23,
   "id": "81df8167",
   "metadata": {},
   "outputs": [],
   "source": [
    "def moveZeroes(nums):\n",
    "    i = 0\n",
    "    for j in range(len(nums)):\n",
    "        if nums[j] != 0:\n",
    "            nums[i], nums[j] = nums[j], nums[i]\n",
    "            i += 1\n"
   ]
  },
  {
   "cell_type": "code",
   "execution_count": 27,
   "id": "ab6c01ec",
   "metadata": {},
   "outputs": [
    {
     "name": "stdout",
     "output_type": "stream",
     "text": [
      "[1, 3, 12, 0, 0]\n"
     ]
    }
   ],
   "source": [
    "nums = [0, 1, 0, 3, 12]\n",
    "moveZeroes(nums)\n",
    "print(nums)  \n"
   ]
  },
  {
   "cell_type": "markdown",
   "id": "4d511636",
   "metadata": {},
   "source": [
    "<aside>\n",
    "💡 **Q8.** You have a set of integers s, which originally contains all the numbers from 1 to n. Unfortunately, due to some error, one of the numbers in s got duplicated to another number in the set, which results in repetition of one number and loss of another number.\n",
    "\n",
    "You are given an integer array nums representing the data status of this set after the error.\n",
    "\n",
    "Find the number that occurs twice and the number that is missing and return them in the form of an array.\n",
    "\n",
    "</aside>"
   ]
  },
  {
   "cell_type": "code",
   "execution_count": 28,
   "id": "3bc76695",
   "metadata": {},
   "outputs": [],
   "source": [
    "def findErrorNums(nums):\n",
    "    n = len(nums)\n",
    "    xor = 0\n",
    "\n",
    "    for i, num in enumerate(nums):\n",
    "        xor ^= num ^ (i + 1)\n",
    "\n",
    "    rightmost_bit = xor & -xor\n",
    "    missing = duplicated = 0\n",
    "\n",
    "    for num in nums:\n",
    "        if num & rightmost_bit == 0:\n",
    "            missing ^= num\n",
    "        else:\n",
    "            duplicated ^= num\n",
    "\n",
    "    for i in range(1, n + 1):\n",
    "        if i & rightmost_bit == 0:\n",
    "            missing ^= i\n",
    "        else:\n",
    "            duplicated ^= i\n",
    "\n",
    "    return [duplicated, missing]\n"
   ]
  },
  {
   "cell_type": "code",
   "execution_count": 29,
   "id": "1cc34990",
   "metadata": {},
   "outputs": [
    {
     "data": {
      "text/plain": [
       "[3, 4]"
      ]
     },
     "execution_count": 29,
     "metadata": {},
     "output_type": "execute_result"
    }
   ],
   "source": [
    "nums = [1,2,3,3,5]\n",
    "findErrorNums(nums)"
   ]
  },
  {
   "cell_type": "code",
   "execution_count": null,
   "id": "214fed8a",
   "metadata": {},
   "outputs": [],
   "source": []
  }
 ],
 "metadata": {
  "kernelspec": {
   "display_name": "Python 3 (ipykernel)",
   "language": "python",
   "name": "python3"
  },
  "language_info": {
   "codemirror_mode": {
    "name": "ipython",
    "version": 3
   },
   "file_extension": ".py",
   "mimetype": "text/x-python",
   "name": "python",
   "nbconvert_exporter": "python",
   "pygments_lexer": "ipython3",
   "version": "3.9.7"
  }
 },
 "nbformat": 4,
 "nbformat_minor": 5
}
